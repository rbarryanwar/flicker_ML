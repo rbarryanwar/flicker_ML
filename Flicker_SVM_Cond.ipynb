{
 "cells": [
  {
   "cell_type": "code",
   "execution_count": 1,
   "metadata": {},
   "outputs": [],
   "source": [
    "import pandas as pd\n",
    "import numpy as np\n",
    "import matplotlib.pyplot as plt\n",
    "%matplotlib inline\n",
    "import seaborn as sns"
   ]
  },
  {
   "cell_type": "code",
   "execution_count": 2,
   "metadata": {},
   "outputs": [],
   "source": [
    "from sklearn import preprocessing"
   ]
  },
  {
   "cell_type": "code",
   "execution_count": 3,
   "metadata": {},
   "outputs": [],
   "source": [
    "filepath = '/Users/rabarry/Documents/Data Science Project/Flicker_SVM_cond.csv'\n",
    "flick = pd.read_csv(filepath)"
   ]
  },
  {
   "cell_type": "code",
   "execution_count": 4,
   "metadata": {},
   "outputs": [
    {
     "data": {
      "text/html": [
       "<div>\n",
       "<style scoped>\n",
       "    .dataframe tbody tr th:only-of-type {\n",
       "        vertical-align: middle;\n",
       "    }\n",
       "\n",
       "    .dataframe tbody tr th {\n",
       "        vertical-align: top;\n",
       "    }\n",
       "\n",
       "    .dataframe thead th {\n",
       "        text-align: right;\n",
       "    }\n",
       "</style>\n",
       "<table border=\"1\" class=\"dataframe\">\n",
       "  <thead>\n",
       "    <tr style=\"text-align: right;\">\n",
       "      <th></th>\n",
       "      <th>part</th>\n",
       "      <th>CB</th>\n",
       "      <th>AGEgrp</th>\n",
       "      <th>Cond</th>\n",
       "      <th>T5</th>\n",
       "      <th>O1</th>\n",
       "      <th>T6</th>\n",
       "      <th>O2</th>\n",
       "    </tr>\n",
       "  </thead>\n",
       "  <tbody>\n",
       "    <tr>\n",
       "      <th>count</th>\n",
       "      <td>236.000000</td>\n",
       "      <td>236.000000</td>\n",
       "      <td>236.000000</td>\n",
       "      <td>236.000000</td>\n",
       "      <td>236.000000</td>\n",
       "      <td>236.000000</td>\n",
       "      <td>236.000000</td>\n",
       "      <td>236.000000</td>\n",
       "    </tr>\n",
       "    <tr>\n",
       "      <th>mean</th>\n",
       "      <td>216.364407</td>\n",
       "      <td>1.423729</td>\n",
       "      <td>0.398305</td>\n",
       "      <td>0.500000</td>\n",
       "      <td>0.137462</td>\n",
       "      <td>0.260106</td>\n",
       "      <td>0.166236</td>\n",
       "      <td>0.280719</td>\n",
       "    </tr>\n",
       "    <tr>\n",
       "      <th>std</th>\n",
       "      <td>92.930417</td>\n",
       "      <td>0.495199</td>\n",
       "      <td>0.490589</td>\n",
       "      <td>0.501063</td>\n",
       "      <td>0.217415</td>\n",
       "      <td>0.331852</td>\n",
       "      <td>0.239162</td>\n",
       "      <td>0.330535</td>\n",
       "    </tr>\n",
       "    <tr>\n",
       "      <th>min</th>\n",
       "      <td>100.000000</td>\n",
       "      <td>1.000000</td>\n",
       "      <td>0.000000</td>\n",
       "      <td>0.000000</td>\n",
       "      <td>-0.293793</td>\n",
       "      <td>-0.602527</td>\n",
       "      <td>-0.308235</td>\n",
       "      <td>-0.285660</td>\n",
       "    </tr>\n",
       "    <tr>\n",
       "      <th>25%</th>\n",
       "      <td>136.000000</td>\n",
       "      <td>1.000000</td>\n",
       "      <td>0.000000</td>\n",
       "      <td>0.000000</td>\n",
       "      <td>-0.005333</td>\n",
       "      <td>0.040931</td>\n",
       "      <td>-0.007720</td>\n",
       "      <td>0.049511</td>\n",
       "    </tr>\n",
       "    <tr>\n",
       "      <th>50%</th>\n",
       "      <td>176.000000</td>\n",
       "      <td>1.000000</td>\n",
       "      <td>0.000000</td>\n",
       "      <td>0.500000</td>\n",
       "      <td>0.097704</td>\n",
       "      <td>0.173076</td>\n",
       "      <td>0.118794</td>\n",
       "      <td>0.173290</td>\n",
       "    </tr>\n",
       "    <tr>\n",
       "      <th>75%</th>\n",
       "      <td>322.000000</td>\n",
       "      <td>2.000000</td>\n",
       "      <td>1.000000</td>\n",
       "      <td>1.000000</td>\n",
       "      <td>0.230907</td>\n",
       "      <td>0.421064</td>\n",
       "      <td>0.313945</td>\n",
       "      <td>0.449729</td>\n",
       "    </tr>\n",
       "    <tr>\n",
       "      <th>max</th>\n",
       "      <td>351.000000</td>\n",
       "      <td>2.000000</td>\n",
       "      <td>1.000000</td>\n",
       "      <td>1.000000</td>\n",
       "      <td>1.069666</td>\n",
       "      <td>2.006840</td>\n",
       "      <td>1.037423</td>\n",
       "      <td>1.931580</td>\n",
       "    </tr>\n",
       "  </tbody>\n",
       "</table>\n",
       "</div>"
      ],
      "text/plain": [
       "             part          CB      AGEgrp        Cond          T5          O1  \\\n",
       "count  236.000000  236.000000  236.000000  236.000000  236.000000  236.000000   \n",
       "mean   216.364407    1.423729    0.398305    0.500000    0.137462    0.260106   \n",
       "std     92.930417    0.495199    0.490589    0.501063    0.217415    0.331852   \n",
       "min    100.000000    1.000000    0.000000    0.000000   -0.293793   -0.602527   \n",
       "25%    136.000000    1.000000    0.000000    0.000000   -0.005333    0.040931   \n",
       "50%    176.000000    1.000000    0.000000    0.500000    0.097704    0.173076   \n",
       "75%    322.000000    2.000000    1.000000    1.000000    0.230907    0.421064   \n",
       "max    351.000000    2.000000    1.000000    1.000000    1.069666    2.006840   \n",
       "\n",
       "               T6          O2  \n",
       "count  236.000000  236.000000  \n",
       "mean     0.166236    0.280719  \n",
       "std      0.239162    0.330535  \n",
       "min     -0.308235   -0.285660  \n",
       "25%     -0.007720    0.049511  \n",
       "50%      0.118794    0.173290  \n",
       "75%      0.313945    0.449729  \n",
       "max      1.037423    1.931580  "
      ]
     },
     "execution_count": 4,
     "metadata": {},
     "output_type": "execute_result"
    }
   ],
   "source": [
    "flick.describe()"
   ]
  },
  {
   "cell_type": "markdown",
   "metadata": {},
   "source": [
    "# Now try classification methods\n",
    "\n",
    "We'll split the data into training and test sets first."
   ]
  },
  {
   "cell_type": "code",
   "execution_count": 5,
   "metadata": {},
   "outputs": [],
   "source": [
    "from sklearn.model_selection import train_test_split"
   ]
  },
  {
   "cell_type": "markdown",
   "metadata": {},
   "source": [
    "Split into babies and adults and run separately for the ages"
   ]
  },
  {
   "cell_type": "code",
   "execution_count": 10,
   "metadata": {},
   "outputs": [],
   "source": [
    "Type1 = flick['AGEgrp']==1 #Adults\n",
    "Type2 = flick['AGEgrp']==0 #Infants\n",
    "Adult = flick[Type1]\n",
    "Infant = flick[Type2]"
   ]
  },
  {
   "cell_type": "code",
   "execution_count": 16,
   "metadata": {},
   "outputs": [
    {
     "data": {
      "text/plain": [
       "((94, 11), (142, 11))"
      ]
     },
     "execution_count": 16,
     "metadata": {},
     "output_type": "execute_result"
    }
   ],
   "source": [
    "Adult.shape , Infant.shape"
   ]
  },
  {
   "cell_type": "markdown",
   "metadata": {},
   "source": [
    "Specify which columns are the features"
   ]
  },
  {
   "cell_type": "code",
   "execution_count": 17,
   "metadata": {},
   "outputs": [],
   "source": [
    "Adult_X = Adult[['T5', 'O1', 'O2', 'T6']]\n",
    "Infant_X = Infant[['T5', 'O1', 'O2', 'T6']]"
   ]
  },
  {
   "cell_type": "code",
   "execution_count": 18,
   "metadata": {},
   "outputs": [
    {
     "data": {
      "text/plain": [
       "((94, 4), (142, 4))"
      ]
     },
     "execution_count": 18,
     "metadata": {},
     "output_type": "execute_result"
    }
   ],
   "source": [
    "Adult_X.shape, Infant_X.shape"
   ]
  },
  {
   "cell_type": "code",
   "execution_count": 19,
   "metadata": {},
   "outputs": [
    {
     "data": {
      "text/html": [
       "<div>\n",
       "<style scoped>\n",
       "    .dataframe tbody tr th:only-of-type {\n",
       "        vertical-align: middle;\n",
       "    }\n",
       "\n",
       "    .dataframe tbody tr th {\n",
       "        vertical-align: top;\n",
       "    }\n",
       "\n",
       "    .dataframe thead th {\n",
       "        text-align: right;\n",
       "    }\n",
       "</style>\n",
       "<table border=\"1\" class=\"dataframe\">\n",
       "  <thead>\n",
       "    <tr style=\"text-align: right;\">\n",
       "      <th></th>\n",
       "      <th>T5</th>\n",
       "      <th>O1</th>\n",
       "      <th>O2</th>\n",
       "      <th>T6</th>\n",
       "    </tr>\n",
       "  </thead>\n",
       "  <tbody>\n",
       "    <tr>\n",
       "      <th>71</th>\n",
       "      <td>-0.010387</td>\n",
       "      <td>-0.048322</td>\n",
       "      <td>0.157702</td>\n",
       "      <td>0.408852</td>\n",
       "    </tr>\n",
       "    <tr>\n",
       "      <th>72</th>\n",
       "      <td>0.048279</td>\n",
       "      <td>0.133431</td>\n",
       "      <td>0.151073</td>\n",
       "      <td>0.068142</td>\n",
       "    </tr>\n",
       "    <tr>\n",
       "      <th>73</th>\n",
       "      <td>0.094795</td>\n",
       "      <td>0.062732</td>\n",
       "      <td>0.128669</td>\n",
       "      <td>0.174961</td>\n",
       "    </tr>\n",
       "    <tr>\n",
       "      <th>74</th>\n",
       "      <td>0.240412</td>\n",
       "      <td>0.194844</td>\n",
       "      <td>0.166047</td>\n",
       "      <td>0.301236</td>\n",
       "    </tr>\n",
       "    <tr>\n",
       "      <th>75</th>\n",
       "      <td>0.114125</td>\n",
       "      <td>0.043617</td>\n",
       "      <td>0.047323</td>\n",
       "      <td>0.113662</td>\n",
       "    </tr>\n",
       "  </tbody>\n",
       "</table>\n",
       "</div>"
      ],
      "text/plain": [
       "          T5        O1        O2        T6\n",
       "71 -0.010387 -0.048322  0.157702  0.408852\n",
       "72  0.048279  0.133431  0.151073  0.068142\n",
       "73  0.094795  0.062732  0.128669  0.174961\n",
       "74  0.240412  0.194844  0.166047  0.301236\n",
       "75  0.114125  0.043617  0.047323  0.113662"
      ]
     },
     "execution_count": 19,
     "metadata": {},
     "output_type": "execute_result"
    }
   ],
   "source": [
    "Adult_X.head()"
   ]
  },
  {
   "cell_type": "markdown",
   "metadata": {},
   "source": [
    "Specify which column is your group ID"
   ]
  },
  {
   "cell_type": "code",
   "execution_count": 20,
   "metadata": {},
   "outputs": [],
   "source": [
    "Adult_y = Adult['Cond']\n",
    "Infant_y = Infant['Cond']"
   ]
  },
  {
   "cell_type": "code",
   "execution_count": 24,
   "metadata": {},
   "outputs": [
    {
     "data": {
      "text/plain": [
       "0    1\n",
       "1    1\n",
       "2    1\n",
       "3    1\n",
       "4    1\n",
       "Name: Cond, dtype: int64"
      ]
     },
     "execution_count": 24,
     "metadata": {},
     "output_type": "execute_result"
    }
   ],
   "source": [
    "Infant_y.head()"
   ]
  },
  {
   "cell_type": "code",
   "execution_count": 25,
   "metadata": {},
   "outputs": [],
   "source": [
    "#Get rid of the row nums\n",
    "Infant_y = np.ravel(Infant_y)\n",
    "Adult_y = np.ravel(Adult_y)"
   ]
  },
  {
   "cell_type": "code",
   "execution_count": 26,
   "metadata": {},
   "outputs": [],
   "source": [
    "Cond = ['face', 'object']"
   ]
  },
  {
   "cell_type": "code",
   "execution_count": 27,
   "metadata": {},
   "outputs": [],
   "source": [
    "feature_names = ['T5', 'O1', 'O2', 'T6']"
   ]
  },
  {
   "cell_type": "code",
   "execution_count": 125,
   "metadata": {},
   "outputs": [],
   "source": [
    "X_train_A, X_test_A, y_train_A, y_test_A = train_test_split(Adult_X, Adult_y, test_size=0.20, random_state=0)\n",
    "X_train_I, X_test_I, y_train_I, y_test_I = train_test_split(Infant_X, Infant_y, test_size=0.20, random_state=0)"
   ]
  },
  {
   "cell_type": "code",
   "execution_count": 126,
   "metadata": {},
   "outputs": [
    {
     "data": {
      "text/plain": [
       "((113, 4), (113,))"
      ]
     },
     "execution_count": 126,
     "metadata": {},
     "output_type": "execute_result"
    }
   ],
   "source": [
    "X_train_I.shape, y_train_I.shape"
   ]
  },
  {
   "cell_type": "markdown",
   "metadata": {},
   "source": [
    "Standardize the X data"
   ]
  },
  {
   "cell_type": "code",
   "execution_count": 127,
   "metadata": {},
   "outputs": [],
   "source": [
    "scaler_A = preprocessing.StandardScaler().fit(X_train_A) \n",
    "scaler_I = preprocessing.StandardScaler().fit(X_train_I) "
   ]
  },
  {
   "cell_type": "code",
   "execution_count": 128,
   "metadata": {},
   "outputs": [
    {
     "data": {
      "text/plain": [
       "(array([0.23892847, 0.31969993, 0.35133382, 0.2994626 ]),\n",
       " array([0.24946736, 0.36134885, 0.38877099, 0.23224176]),\n",
       " array([0.07384875, 0.21470711, 0.23915866, 0.08734896]),\n",
       " array([0.173304  , 0.30144057, 0.29452711, 0.19914373]))"
      ]
     },
     "execution_count": 128,
     "metadata": {},
     "output_type": "execute_result"
    }
   ],
   "source": [
    "scaler_A.mean_ , scaler_A.scale_ , scaler_I.mean_ , scaler_I.scale_                                       "
   ]
  },
  {
   "cell_type": "code",
   "execution_count": 129,
   "metadata": {},
   "outputs": [],
   "source": [
    "X_train_scaled_A = scaler_A.transform(X_train_A) \n",
    "X_train_scaled_I = scaler_I.transform(X_train_I) "
   ]
  },
  {
   "cell_type": "code",
   "execution_count": 130,
   "metadata": {},
   "outputs": [],
   "source": [
    "X_test_scaled_A = scaler_A.transform(X_test_A)\n",
    "X_test_scaled_I = scaler_I.transform(X_test_I)"
   ]
  },
  {
   "cell_type": "markdown",
   "metadata": {},
   "source": [
    "# try K nearest neighbors"
   ]
  },
  {
   "cell_type": "code",
   "execution_count": 131,
   "metadata": {},
   "outputs": [],
   "source": [
    "from sklearn.neighbors import KNeighborsClassifier\n",
    "model = KNeighborsClassifier()\n",
    "model_A = model.fit(X_train_scaled_A, y_train_A)\n",
    "model_I = model.fit(X_train_scaled_I, y_train_I)"
   ]
  },
  {
   "cell_type": "code",
   "execution_count": 132,
   "metadata": {},
   "outputs": [
    {
     "data": {
      "text/plain": [
       "(0.38666666666666666, 0.6460176991150443)"
      ]
     },
     "execution_count": 132,
     "metadata": {},
     "output_type": "execute_result"
    }
   ],
   "source": [
    "# check the accuracy on the training set\n",
    "model_A.score(X_train_scaled_A, y_train_A), model_I.score(X_train_scaled_I, y_train_I)"
   ]
  },
  {
   "cell_type": "code",
   "execution_count": 133,
   "metadata": {},
   "outputs": [
    {
     "name": "stdout",
     "output_type": "stream",
     "text": [
      "[0 1 1 1 1 1 1 1 0 0 1 1 0 1 1 1 1 0 1] [1 1 0 0 1 1 0 0 0 0 0 1 0 1 1 0 1 1 0 1 1 0 0 1 0 0 0 1 0]\n"
     ]
    }
   ],
   "source": [
    "# predict class labels for the test set\n",
    "predicted_A = model_A.predict(X_test_scaled_A)\n",
    "predicted_I = model_I.predict(X_test_scaled_I)\n",
    "print (predicted_A, predicted_I)"
   ]
  },
  {
   "cell_type": "code",
   "execution_count": 134,
   "metadata": {},
   "outputs": [
    {
     "name": "stdout",
     "output_type": "stream",
     "text": [
      "[1 1 0 1 1 0 0 0 1 0 0 1 0 0 0 0 1 1 0] [1 1 1 1 1 1 0 0 0 0 0 0 1 0 0 1 0 0 0 1 1 0 1 1 1 1 0 0 1]\n"
     ]
    }
   ],
   "source": [
    "print(y_test_A, y_test_I)"
   ]
  },
  {
   "cell_type": "code",
   "execution_count": 135,
   "metadata": {},
   "outputs": [
    {
     "name": "stdout",
     "output_type": "stream",
     "text": [
      "0.3684210526315789 0.5172413793103449\n"
     ]
    }
   ],
   "source": [
    "# generate evaluation metrics\n",
    "from sklearn import metrics\n",
    "print (metrics.accuracy_score(y_test_A, predicted_A), metrics.accuracy_score(y_test_I, predicted_I))"
   ]
  },
  {
   "cell_type": "code",
   "execution_count": 136,
   "metadata": {},
   "outputs": [
    {
     "name": "stdout",
     "output_type": "stream",
     "text": [
      "[[8 6]\n",
      " [8 7]]\n"
     ]
    }
   ],
   "source": [
    "#print (metrics.confusion_matrix(y_test_A, predicted_A))\n",
    "print (metrics.confusion_matrix(y_test_I, predicted_I))"
   ]
  },
  {
   "cell_type": "markdown",
   "metadata": {},
   "source": [
    "# Try k folds cross-validation"
   ]
  },
  {
   "cell_type": "code",
   "execution_count": 137,
   "metadata": {},
   "outputs": [],
   "source": [
    "#K folds cross-validation\n",
    "from sklearn import model_selection\n",
    "model = KNeighborsClassifier()\n",
    "kfold = model_selection.KFold(n_splits=6, random_state=12323, shuffle=True) # note shuffle is true so that samples are randomly assigned to the folds."
   ]
  },
  {
   "cell_type": "code",
   "execution_count": 138,
   "metadata": {},
   "outputs": [],
   "source": [
    "Adult_X_scaled = scaler_A.transform(Adult_X)\n",
    "Infant_X_scaled = scaler_I.transform(Infant_X)"
   ]
  },
  {
   "cell_type": "code",
   "execution_count": 139,
   "metadata": {},
   "outputs": [
    {
     "data": {
      "text/plain": [
       "(array([0.625     , 0.625     , 0.8125    , 0.625     , 0.6       ,\n",
       "        0.73333333]),\n",
       " array([0.5       , 0.54166667, 0.58333333, 0.41666667, 0.39130435,\n",
       "        0.47826087]))"
      ]
     },
     "execution_count": 139,
     "metadata": {},
     "output_type": "execute_result"
    }
   ],
   "source": [
    "results_A = model_selection.cross_val_score(model, Adult_X_scaled, Adult_y, cv=kfold)\n",
    "results_I = model_selection.cross_val_score(model, Infant_X_scaled, Infant_y, cv=kfold)\n",
    "results_A , results_I"
   ]
  },
  {
   "cell_type": "code",
   "execution_count": 140,
   "metadata": {},
   "outputs": [
    {
     "name": "stdout",
     "output_type": "stream",
     "text": [
      "Adult Accuracy: 67.014% (7.669%)\n",
      "Infant Accuracy: 48.521% (6.658%)\n"
     ]
    }
   ],
   "source": [
    "print(\"Adult Accuracy: %.3f%% (%.3f%%)\" % (results_A.mean()*100.0, results_A.std()*100.0) )\n",
    "print(\"Infant Accuracy: %.3f%% (%.3f%%)\" % (results_I.mean()*100.0, results_I.std()*100.0) )"
   ]
  },
  {
   "cell_type": "markdown",
   "metadata": {},
   "source": [
    "# Try leave one out cross validation"
   ]
  },
  {
   "cell_type": "code",
   "execution_count": 141,
   "metadata": {},
   "outputs": [
    {
     "name": "stdout",
     "output_type": "stream",
     "text": [
      "Adult Accuracy: 62.766% (48.343%)\n",
      "Infant Accuracy: 47.887% (49.955%)\n"
     ]
    }
   ],
   "source": [
    "#leave one out cross validation (LOOCV)\n",
    "model = KNeighborsClassifier()\n",
    "loocv = model_selection.LeaveOneOut()\n",
    "results_A = model_selection.cross_val_score(model, Adult_X_scaled, Adult_y, cv=loocv)\n",
    "results_I = model_selection.cross_val_score(model, Infant_X_scaled, Infant_y, cv=loocv)\n",
    "print(\"Adult Accuracy: %.3f%% (%.3f%%)\" % (results_A.mean()*100.0, results_A.std()*100.0))\n",
    "print(\"Infant Accuracy: %.3f%% (%.3f%%)\" % (results_I.mean()*100.0, results_I.std()*100.0))"
   ]
  },
  {
   "cell_type": "markdown",
   "metadata": {},
   "source": [
    "# Try SVM\n",
    "Start with a linear kernel"
   ]
  },
  {
   "cell_type": "code",
   "execution_count": 160,
   "metadata": {},
   "outputs": [
    {
     "data": {
      "text/plain": [
       "SVC(C=1.0, cache_size=200, class_weight=None, coef0=0.0,\n",
       "    decision_function_shape='ovr', degree=3, gamma='auto_deprecated',\n",
       "    kernel='sigmoid', max_iter=-1, probability=False, random_state=None,\n",
       "    shrinking=True, tol=0.001, verbose=False)"
      ]
     },
     "execution_count": 160,
     "metadata": {},
     "output_type": "execute_result"
    }
   ],
   "source": [
    "#linear SVM 'liner', polynomial = 'poly', 'rbf', 'sigmoid'\n",
    "from sklearn.svm import SVC\n",
    "clf_A = SVC(kernel = 'sigmoid')\n",
    "clf_I = SVC(kernel = 'sigmoid')\n",
    "clf_A.fit(X_train_scaled_A, y_train_A) \n",
    "clf_I.fit(X_train_scaled_I, y_train_I) "
   ]
  },
  {
   "cell_type": "code",
   "execution_count": 161,
   "metadata": {},
   "outputs": [],
   "source": [
    "y_pred_A = clf_A.predict(X_test_scaled_A)\n",
    "y_pred_I = clf_I.predict(X_test_scaled_I)"
   ]
  },
  {
   "cell_type": "code",
   "execution_count": 162,
   "metadata": {},
   "outputs": [
    {
     "name": "stdout",
     "output_type": "stream",
     "text": [
      "[1 0 1 1 1 0 1 1 1 0 1 1 1 0 0 0 0 1 1] [1 1 0 0 0 0 0 0 1 1 1 0 0 1 0 0 1 0 1 0 1 1 1 0 1 0 1 0 0]\n"
     ]
    }
   ],
   "source": [
    "print(y_pred_A, y_pred_I)"
   ]
  },
  {
   "cell_type": "code",
   "execution_count": 163,
   "metadata": {},
   "outputs": [
    {
     "name": "stdout",
     "output_type": "stream",
     "text": [
      "[1 1 0 1 1 0 0 0 1 0 0 1 0 0 0 0 1 1 0] [1 1 1 1 1 1 0 0 0 0 0 0 1 0 0 1 0 0 0 1 1 0 1 1 1 1 0 0 1]\n"
     ]
    }
   ],
   "source": [
    "print(y_test_A, y_test_I)"
   ]
  },
  {
   "cell_type": "code",
   "execution_count": 164,
   "metadata": {},
   "outputs": [
    {
     "name": "stdout",
     "output_type": "stream",
     "text": [
      "[[5 6]\n",
      " [2 6]]\n",
      "              precision    recall  f1-score   support\n",
      "\n",
      "           0       0.71      0.45      0.56        11\n",
      "           1       0.50      0.75      0.60         8\n",
      "\n",
      "    accuracy                           0.58        19\n",
      "   macro avg       0.61      0.60      0.58        19\n",
      "weighted avg       0.62      0.58      0.57        19\n",
      "\n"
     ]
    }
   ],
   "source": [
    "#evaluate the SVM\n",
    "from sklearn.metrics import classification_report, confusion_matrix\n",
    "print(confusion_matrix(y_test_A, y_pred_A))\n",
    "print(classification_report(y_test_A, y_pred_A))"
   ]
  },
  {
   "cell_type": "code",
   "execution_count": 165,
   "metadata": {},
   "outputs": [
    {
     "name": "stdout",
     "output_type": "stream",
     "text": [
      "[[ 6  8]\n",
      " [10  5]]\n",
      "              precision    recall  f1-score   support\n",
      "\n",
      "           0       0.38      0.43      0.40        14\n",
      "           1       0.38      0.33      0.36        15\n",
      "\n",
      "    accuracy                           0.38        29\n",
      "   macro avg       0.38      0.38      0.38        29\n",
      "weighted avg       0.38      0.38      0.38        29\n",
      "\n"
     ]
    }
   ],
   "source": [
    "print(confusion_matrix(y_test_I, y_pred_I))\n",
    "print(classification_report(y_test_I, y_pred_I))"
   ]
  },
  {
   "cell_type": "code",
   "execution_count": null,
   "metadata": {},
   "outputs": [],
   "source": []
  }
 ],
 "metadata": {
  "kernelspec": {
   "display_name": "Python 3",
   "language": "python",
   "name": "python3"
  },
  "language_info": {
   "codemirror_mode": {
    "name": "ipython",
    "version": 3
   },
   "file_extension": ".py",
   "mimetype": "text/x-python",
   "name": "python",
   "nbconvert_exporter": "python",
   "pygments_lexer": "ipython3",
   "version": "3.7.4"
  }
 },
 "nbformat": 4,
 "nbformat_minor": 2
}
