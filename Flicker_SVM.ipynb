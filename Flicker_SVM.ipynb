{
 "cells": [
  {
   "cell_type": "code",
   "execution_count": 1,
   "metadata": {},
   "outputs": [],
   "source": [
    "import pandas as pd\n",
    "import numpy as np\n",
    "import matplotlib.pyplot as plt\n",
    "%matplotlib inline\n",
    "import seaborn as sns"
   ]
  },
  {
   "cell_type": "code",
   "execution_count": 2,
   "metadata": {},
   "outputs": [],
   "source": [
    "from sklearn import preprocessing"
   ]
  },
  {
   "cell_type": "code",
   "execution_count": 3,
   "metadata": {},
   "outputs": [],
   "source": [
    "filepath = '/Users/rabarry/Documents/Data Science Project/Flicker_SVM.csv'\n",
    "flick = pd.read_csv(filepath)"
   ]
  },
  {
   "cell_type": "code",
   "execution_count": 4,
   "metadata": {},
   "outputs": [
    {
     "data": {
      "text/html": [
       "<div>\n",
       "<style scoped>\n",
       "    .dataframe tbody tr th:only-of-type {\n",
       "        vertical-align: middle;\n",
       "    }\n",
       "\n",
       "    .dataframe tbody tr th {\n",
       "        vertical-align: top;\n",
       "    }\n",
       "\n",
       "    .dataframe thead th {\n",
       "        text-align: right;\n",
       "    }\n",
       "</style>\n",
       "<table border=\"1\" class=\"dataframe\">\n",
       "  <thead>\n",
       "    <tr style=\"text-align: right;\">\n",
       "      <th></th>\n",
       "      <th>part</th>\n",
       "      <th>CB</th>\n",
       "      <th>AGEgrp</th>\n",
       "      <th>face_T5</th>\n",
       "      <th>face_O1</th>\n",
       "      <th>face_T6</th>\n",
       "      <th>face_O2</th>\n",
       "      <th>obj_T5</th>\n",
       "      <th>obj_O1</th>\n",
       "      <th>obj_T6</th>\n",
       "      <th>obj_O2</th>\n",
       "    </tr>\n",
       "  </thead>\n",
       "  <tbody>\n",
       "    <tr>\n",
       "      <th>count</th>\n",
       "      <td>118.000000</td>\n",
       "      <td>118.000000</td>\n",
       "      <td>118.000000</td>\n",
       "      <td>118.000000</td>\n",
       "      <td>118.000000</td>\n",
       "      <td>118.000000</td>\n",
       "      <td>118.000000</td>\n",
       "      <td>118.000000</td>\n",
       "      <td>118.000000</td>\n",
       "      <td>118.000000</td>\n",
       "      <td>118.000000</td>\n",
       "    </tr>\n",
       "    <tr>\n",
       "      <th>mean</th>\n",
       "      <td>216.364407</td>\n",
       "      <td>1.423729</td>\n",
       "      <td>0.398305</td>\n",
       "      <td>0.103888</td>\n",
       "      <td>0.189547</td>\n",
       "      <td>0.144151</td>\n",
       "      <td>0.211786</td>\n",
       "      <td>0.171036</td>\n",
       "      <td>0.330665</td>\n",
       "      <td>0.188321</td>\n",
       "      <td>0.349652</td>\n",
       "    </tr>\n",
       "    <tr>\n",
       "      <th>std</th>\n",
       "      <td>93.128774</td>\n",
       "      <td>0.496256</td>\n",
       "      <td>0.491637</td>\n",
       "      <td>0.159787</td>\n",
       "      <td>0.241889</td>\n",
       "      <td>0.206995</td>\n",
       "      <td>0.230257</td>\n",
       "      <td>0.259109</td>\n",
       "      <td>0.390692</td>\n",
       "      <td>0.266561</td>\n",
       "      <td>0.396027</td>\n",
       "    </tr>\n",
       "    <tr>\n",
       "      <th>min</th>\n",
       "      <td>100.000000</td>\n",
       "      <td>1.000000</td>\n",
       "      <td>0.000000</td>\n",
       "      <td>-0.268466</td>\n",
       "      <td>-0.253481</td>\n",
       "      <td>-0.297485</td>\n",
       "      <td>-0.228624</td>\n",
       "      <td>-0.293793</td>\n",
       "      <td>-0.602527</td>\n",
       "      <td>-0.308235</td>\n",
       "      <td>-0.285660</td>\n",
       "    </tr>\n",
       "    <tr>\n",
       "      <th>25%</th>\n",
       "      <td>136.250000</td>\n",
       "      <td>1.000000</td>\n",
       "      <td>0.000000</td>\n",
       "      <td>-0.005725</td>\n",
       "      <td>0.037279</td>\n",
       "      <td>-0.011368</td>\n",
       "      <td>0.058548</td>\n",
       "      <td>-0.000739</td>\n",
       "      <td>0.065150</td>\n",
       "      <td>-0.006310</td>\n",
       "      <td>0.044520</td>\n",
       "    </tr>\n",
       "    <tr>\n",
       "      <th>50%</th>\n",
       "      <td>176.000000</td>\n",
       "      <td>1.000000</td>\n",
       "      <td>0.000000</td>\n",
       "      <td>0.089687</td>\n",
       "      <td>0.148373</td>\n",
       "      <td>0.121371</td>\n",
       "      <td>0.157080</td>\n",
       "      <td>0.109658</td>\n",
       "      <td>0.263119</td>\n",
       "      <td>0.116509</td>\n",
       "      <td>0.253263</td>\n",
       "    </tr>\n",
       "    <tr>\n",
       "      <th>75%</th>\n",
       "      <td>321.750000</td>\n",
       "      <td>2.000000</td>\n",
       "      <td>1.000000</td>\n",
       "      <td>0.183110</td>\n",
       "      <td>0.317027</td>\n",
       "      <td>0.273667</td>\n",
       "      <td>0.332161</td>\n",
       "      <td>0.294846</td>\n",
       "      <td>0.578181</td>\n",
       "      <td>0.346948</td>\n",
       "      <td>0.612906</td>\n",
       "    </tr>\n",
       "    <tr>\n",
       "      <th>max</th>\n",
       "      <td>351.000000</td>\n",
       "      <td>2.000000</td>\n",
       "      <td>1.000000</td>\n",
       "      <td>0.708441</td>\n",
       "      <td>1.161272</td>\n",
       "      <td>0.951748</td>\n",
       "      <td>1.054175</td>\n",
       "      <td>1.069666</td>\n",
       "      <td>2.006840</td>\n",
       "      <td>1.037423</td>\n",
       "      <td>1.931580</td>\n",
       "    </tr>\n",
       "  </tbody>\n",
       "</table>\n",
       "</div>"
      ],
      "text/plain": [
       "             part          CB      AGEgrp     face_T5     face_O1     face_T6  \\\n",
       "count  118.000000  118.000000  118.000000  118.000000  118.000000  118.000000   \n",
       "mean   216.364407    1.423729    0.398305    0.103888    0.189547    0.144151   \n",
       "std     93.128774    0.496256    0.491637    0.159787    0.241889    0.206995   \n",
       "min    100.000000    1.000000    0.000000   -0.268466   -0.253481   -0.297485   \n",
       "25%    136.250000    1.000000    0.000000   -0.005725    0.037279   -0.011368   \n",
       "50%    176.000000    1.000000    0.000000    0.089687    0.148373    0.121371   \n",
       "75%    321.750000    2.000000    1.000000    0.183110    0.317027    0.273667   \n",
       "max    351.000000    2.000000    1.000000    0.708441    1.161272    0.951748   \n",
       "\n",
       "          face_O2      obj_T5      obj_O1      obj_T6      obj_O2  \n",
       "count  118.000000  118.000000  118.000000  118.000000  118.000000  \n",
       "mean     0.211786    0.171036    0.330665    0.188321    0.349652  \n",
       "std      0.230257    0.259109    0.390692    0.266561    0.396027  \n",
       "min     -0.228624   -0.293793   -0.602527   -0.308235   -0.285660  \n",
       "25%      0.058548   -0.000739    0.065150   -0.006310    0.044520  \n",
       "50%      0.157080    0.109658    0.263119    0.116509    0.253263  \n",
       "75%      0.332161    0.294846    0.578181    0.346948    0.612906  \n",
       "max      1.054175    1.069666    2.006840    1.037423    1.931580  "
      ]
     },
     "execution_count": 4,
     "metadata": {},
     "output_type": "execute_result"
    }
   ],
   "source": [
    "flick.describe()"
   ]
  },
  {
   "cell_type": "markdown",
   "metadata": {},
   "source": [
    "# first, try out regression on something we know is related\n",
    "We're using the face response over occipital temporal channels and the object response over occipital temporal channels"
   ]
  },
  {
   "cell_type": "code",
   "execution_count": 4,
   "metadata": {},
   "outputs": [
    {
     "data": {
      "image/png": "[encoded data removed]",
      "text/plain": [
       "<Figure size 432x288 with 1 Axes>"
      ]
     },
     "metadata": {
      "needs_background": "light"
     },
     "output_type": "display_data"
    }
   ],
   "source": [
    "flick.plot(\"face_T6\", \"obj_T6\", kind=\"scatter\")\n",
    "plt.show()"
   ]
  },
  {
   "cell_type": "markdown",
   "metadata": {},
   "source": [
    "Run the model"
   ]
  },
  {
   "cell_type": "code",
   "execution_count": 5,
   "metadata": {},
   "outputs": [
    {
     "name": "stdout",
     "output_type": "stream",
     "text": [
      "[[0.62856165]] [0.09771352]\n"
     ]
    }
   ],
   "source": [
    "from sklearn.linear_model import LinearRegression\n",
    "\n",
    "X = flick.face_T6.values.reshape(-1, 1)\n",
    "Y = flick.obj_T6.values.reshape(-1, 1)\n",
    "\n",
    "model = LinearRegression()\n",
    "model.fit(X, Y)\n",
    "slopes = model.coef_\n",
    "intercept = model.intercept_\n",
    "\n",
    "print(slopes, intercept)"
   ]
  },
  {
   "cell_type": "markdown",
   "metadata": {},
   "source": [
    "Plot the results"
   ]
  },
  {
   "cell_type": "code",
   "execution_count": 7,
   "metadata": {},
   "outputs": [
    {
     "data": {
      "image/png": "[encoded data removed]",
      "text/plain": [
       "<Figure size 432x288 with 1 Axes>"
      ]
     },
     "metadata": {
      "needs_background": "light"
     },
     "output_type": "display_data"
    }
   ],
   "source": [
    "flick1 = flick.plot(\"face_T6\", \"obj_T6\", kind=\"scatter\", title=\"face vs obj example\", color=\"red\")\n",
    "flick1.set_xlabel(\"face BCA at T6\")\n",
    "flick1.set_ylabel(\"obj BCA at T6\")\n",
    "\n",
    "flick1.plot(X, X * slopes[0] + intercept, 'black')\n",
    "\n",
    "plt.show()"
   ]
  },
  {
   "cell_type": "code",
   "execution_count": 8,
   "metadata": {},
   "outputs": [
    {
     "data": {
      "text/html": [
       "<div>\n",
       "<style scoped>\n",
       "    .dataframe tbody tr th:only-of-type {\n",
       "        vertical-align: middle;\n",
       "    }\n",
       "\n",
       "    .dataframe tbody tr th {\n",
       "        vertical-align: top;\n",
       "    }\n",
       "\n",
       "    .dataframe thead th {\n",
       "        text-align: right;\n",
       "    }\n",
       "</style>\n",
       "<table border=\"1\" class=\"dataframe\">\n",
       "  <thead>\n",
       "    <tr style=\"text-align: right;\">\n",
       "      <th></th>\n",
       "      <th>face_T6</th>\n",
       "      <th>obj_T6</th>\n",
       "      <th>predicted_obj_T6</th>\n",
       "    </tr>\n",
       "  </thead>\n",
       "  <tbody>\n",
       "    <tr>\n",
       "      <th>0</th>\n",
       "      <td>0.095991</td>\n",
       "      <td>0.116441</td>\n",
       "      <td>0.158050</td>\n",
       "    </tr>\n",
       "    <tr>\n",
       "      <th>1</th>\n",
       "      <td>0.047678</td>\n",
       "      <td>0.187087</td>\n",
       "      <td>0.127682</td>\n",
       "    </tr>\n",
       "    <tr>\n",
       "      <th>2</th>\n",
       "      <td>-0.040757</td>\n",
       "      <td>-0.080178</td>\n",
       "      <td>0.072096</td>\n",
       "    </tr>\n",
       "    <tr>\n",
       "      <th>3</th>\n",
       "      <td>-0.155197</td>\n",
       "      <td>0.182501</td>\n",
       "      <td>0.000163</td>\n",
       "    </tr>\n",
       "    <tr>\n",
       "      <th>4</th>\n",
       "      <td>0.412979</td>\n",
       "      <td>-0.027206</td>\n",
       "      <td>0.357296</td>\n",
       "    </tr>\n",
       "  </tbody>\n",
       "</table>\n",
       "</div>"
      ],
      "text/plain": [
       "    face_T6    obj_T6  predicted_obj_T6\n",
       "0  0.095991  0.116441          0.158050\n",
       "1  0.047678  0.187087          0.127682\n",
       "2 -0.040757 -0.080178          0.072096\n",
       "3 -0.155197  0.182501          0.000163\n",
       "4  0.412979 -0.027206          0.357296"
      ]
     },
     "execution_count": 8,
     "metadata": {},
     "output_type": "execute_result"
    }
   ],
   "source": [
    "#print predicted obj T6 BCA\n",
    "data = pd.DataFrame({\n",
    "    'face_T6': flick.face_T6,\n",
    "    'obj_T6': flick.obj_T6\n",
    "})\n",
    "data['predicted_obj_T6'] = data.face_T6 * slopes[0] + intercept\n",
    "data.head()"
   ]
  },
  {
   "cell_type": "code",
   "execution_count": 12,
   "metadata": {},
   "outputs": [
    {
     "data": {
      "image/png": "[encoded data removed]",
      "text/plain": [
       "<Figure size 432x288 with 1 Axes>"
      ]
     },
     "metadata": {
      "needs_background": "light"
     },
     "output_type": "display_data"
    }
   ],
   "source": [
    "#plot predicted obj T6 vs actual obj T6\n",
    "predicted1 = data.plot('obj_T6', 'predicted_obj_T6', kind='scatter', color='red')\n",
    "predicted1.plot(data.obj_T6, data.obj_T6, 'black')\n",
    "plt.show()"
   ]
  },
  {
   "cell_type": "markdown",
   "metadata": {},
   "source": [
    "Compute the squared error for each data point"
   ]
  },
  {
   "cell_type": "code",
   "execution_count": 13,
   "metadata": {},
   "outputs": [
    {
     "data": {
      "text/html": [
       "<div>\n",
       "<style scoped>\n",
       "    .dataframe tbody tr th:only-of-type {\n",
       "        vertical-align: middle;\n",
       "    }\n",
       "\n",
       "    .dataframe tbody tr th {\n",
       "        vertical-align: top;\n",
       "    }\n",
       "\n",
       "    .dataframe thead th {\n",
       "        text-align: right;\n",
       "    }\n",
       "</style>\n",
       "<table border=\"1\" class=\"dataframe\">\n",
       "  <thead>\n",
       "    <tr style=\"text-align: right;\">\n",
       "      <th></th>\n",
       "      <th>face_T6</th>\n",
       "      <th>obj_T6</th>\n",
       "      <th>predicted_obj_T6</th>\n",
       "      <th>squared_error</th>\n",
       "    </tr>\n",
       "  </thead>\n",
       "  <tbody>\n",
       "    <tr>\n",
       "      <th>0</th>\n",
       "      <td>0.095991</td>\n",
       "      <td>0.116441</td>\n",
       "      <td>0.158050</td>\n",
       "      <td>0.001731</td>\n",
       "    </tr>\n",
       "    <tr>\n",
       "      <th>1</th>\n",
       "      <td>0.047678</td>\n",
       "      <td>0.187087</td>\n",
       "      <td>0.127682</td>\n",
       "      <td>0.003529</td>\n",
       "    </tr>\n",
       "    <tr>\n",
       "      <th>2</th>\n",
       "      <td>-0.040757</td>\n",
       "      <td>-0.080178</td>\n",
       "      <td>0.072096</td>\n",
       "      <td>0.023187</td>\n",
       "    </tr>\n",
       "    <tr>\n",
       "      <th>3</th>\n",
       "      <td>-0.155197</td>\n",
       "      <td>0.182501</td>\n",
       "      <td>0.000163</td>\n",
       "      <td>0.033247</td>\n",
       "    </tr>\n",
       "    <tr>\n",
       "      <th>4</th>\n",
       "      <td>0.412979</td>\n",
       "      <td>-0.027206</td>\n",
       "      <td>0.357296</td>\n",
       "      <td>0.147842</td>\n",
       "    </tr>\n",
       "  </tbody>\n",
       "</table>\n",
       "</div>"
      ],
      "text/plain": [
       "    face_T6    obj_T6  predicted_obj_T6  squared_error\n",
       "0  0.095991  0.116441          0.158050       0.001731\n",
       "1  0.047678  0.187087          0.127682       0.003529\n",
       "2 -0.040757 -0.080178          0.072096       0.023187\n",
       "3 -0.155197  0.182501          0.000163       0.033247\n",
       "4  0.412979 -0.027206          0.357296       0.147842"
      ]
     },
     "execution_count": 13,
     "metadata": {},
     "output_type": "execute_result"
    }
   ],
   "source": [
    "#squared error\n",
    "data['squared_error'] = (data.obj_T6 - data.predicted_obj_T6)**2\n",
    "data.head()"
   ]
  },
  {
   "cell_type": "code",
   "execution_count": 14,
   "metadata": {},
   "outputs": [
    {
     "data": {
      "text/plain": [
       "0.05366736340137008"
      ]
     },
     "execution_count": 14,
     "metadata": {},
     "output_type": "execute_result"
    }
   ],
   "source": [
    "data.squared_error.mean()"
   ]
  },
  {
   "cell_type": "markdown",
   "metadata": {},
   "source": [
    "# Now try classification methods\n",
    "\n",
    "We'll split the data into training and test sets first."
   ]
  },
  {
   "cell_type": "code",
   "execution_count": 9,
   "metadata": {},
   "outputs": [],
   "source": [
    "from sklearn.model_selection import train_test_split"
   ]
  },
  {
   "cell_type": "markdown",
   "metadata": {},
   "source": [
    "Specify which columns are the features"
   ]
  },
  {
   "cell_type": "code",
   "execution_count": 10,
   "metadata": {},
   "outputs": [],
   "source": [
    "flick_X = flick[['face_T5', 'face_O1', 'face_O2', 'face_T6', 'obj_T5', 'obj_O1', 'obj_O2', 'obj_T6']]"
   ]
  },
  {
   "cell_type": "code",
   "execution_count": 11,
   "metadata": {},
   "outputs": [
    {
     "data": {
      "text/plain": [
       "(118, 8)"
      ]
     },
     "execution_count": 11,
     "metadata": {},
     "output_type": "execute_result"
    }
   ],
   "source": [
    "flick_X.shape"
   ]
  },
  {
   "cell_type": "code",
   "execution_count": 12,
   "metadata": {},
   "outputs": [
    {
     "data": {
      "text/html": [
       "<div>\n",
       "<style scoped>\n",
       "    .dataframe tbody tr th:only-of-type {\n",
       "        vertical-align: middle;\n",
       "    }\n",
       "\n",
       "    .dataframe tbody tr th {\n",
       "        vertical-align: top;\n",
       "    }\n",
       "\n",
       "    .dataframe thead th {\n",
       "        text-align: right;\n",
       "    }\n",
       "</style>\n",
       "<table border=\"1\" class=\"dataframe\">\n",
       "  <thead>\n",
       "    <tr style=\"text-align: right;\">\n",
       "      <th></th>\n",
       "      <th>face_T5</th>\n",
       "      <th>face_O1</th>\n",
       "      <th>face_O2</th>\n",
       "      <th>face_T6</th>\n",
       "      <th>obj_T5</th>\n",
       "      <th>obj_O1</th>\n",
       "      <th>obj_O2</th>\n",
       "      <th>obj_T6</th>\n",
       "    </tr>\n",
       "  </thead>\n",
       "  <tbody>\n",
       "    <tr>\n",
       "      <th>0</th>\n",
       "      <td>-0.063974</td>\n",
       "      <td>0.094894</td>\n",
       "      <td>0.036650</td>\n",
       "      <td>0.095991</td>\n",
       "      <td>-0.168468</td>\n",
       "      <td>-0.009702</td>\n",
       "      <td>-0.082563</td>\n",
       "      <td>0.116441</td>\n",
       "    </tr>\n",
       "    <tr>\n",
       "      <th>1</th>\n",
       "      <td>0.116682</td>\n",
       "      <td>0.011366</td>\n",
       "      <td>0.365330</td>\n",
       "      <td>0.047678</td>\n",
       "      <td>0.632576</td>\n",
       "      <td>0.093175</td>\n",
       "      <td>0.154276</td>\n",
       "      <td>0.187087</td>\n",
       "    </tr>\n",
       "    <tr>\n",
       "      <th>2</th>\n",
       "      <td>0.088963</td>\n",
       "      <td>0.057619</td>\n",
       "      <td>0.112609</td>\n",
       "      <td>-0.040757</td>\n",
       "      <td>-0.063958</td>\n",
       "      <td>-0.165908</td>\n",
       "      <td>-0.002225</td>\n",
       "      <td>-0.080178</td>\n",
       "    </tr>\n",
       "    <tr>\n",
       "      <th>3</th>\n",
       "      <td>-0.141865</td>\n",
       "      <td>0.172576</td>\n",
       "      <td>0.035923</td>\n",
       "      <td>-0.155197</td>\n",
       "      <td>-0.074841</td>\n",
       "      <td>0.220149</td>\n",
       "      <td>0.394895</td>\n",
       "      <td>0.182501</td>\n",
       "    </tr>\n",
       "    <tr>\n",
       "      <th>4</th>\n",
       "      <td>-0.075531</td>\n",
       "      <td>0.402890</td>\n",
       "      <td>0.474245</td>\n",
       "      <td>0.412979</td>\n",
       "      <td>0.185001</td>\n",
       "      <td>-0.116069</td>\n",
       "      <td>-0.285660</td>\n",
       "      <td>-0.027206</td>\n",
       "    </tr>\n",
       "  </tbody>\n",
       "</table>\n",
       "</div>"
      ],
      "text/plain": [
       "    face_T5   face_O1   face_O2   face_T6    obj_T5    obj_O1    obj_O2  \\\n",
       "0 -0.063974  0.094894  0.036650  0.095991 -0.168468 -0.009702 -0.082563   \n",
       "1  0.116682  0.011366  0.365330  0.047678  0.632576  0.093175  0.154276   \n",
       "2  0.088963  0.057619  0.112609 -0.040757 -0.063958 -0.165908 -0.002225   \n",
       "3 -0.141865  0.172576  0.035923 -0.155197 -0.074841  0.220149  0.394895   \n",
       "4 -0.075531  0.402890  0.474245  0.412979  0.185001 -0.116069 -0.285660   \n",
       "\n",
       "     obj_T6  \n",
       "0  0.116441  \n",
       "1  0.187087  \n",
       "2 -0.080178  \n",
       "3  0.182501  \n",
       "4 -0.027206  "
      ]
     },
     "execution_count": 12,
     "metadata": {},
     "output_type": "execute_result"
    }
   ],
   "source": [
    "flick_X.head()"
   ]
  },
  {
   "cell_type": "markdown",
   "metadata": {},
   "source": [
    "Specify which column is your group ID"
   ]
  },
  {
   "cell_type": "code",
   "execution_count": 13,
   "metadata": {},
   "outputs": [],
   "source": [
    "flick_y = flick['AGEgrp']"
   ]
  },
  {
   "cell_type": "code",
   "execution_count": 8,
   "metadata": {},
   "outputs": [
    {
     "data": {
      "text/plain": [
       "0    0\n",
       "1    0\n",
       "2    0\n",
       "3    0\n",
       "4    0\n",
       "Name: AGEgrp, dtype: int64"
      ]
     },
     "execution_count": 8,
     "metadata": {},
     "output_type": "execute_result"
    }
   ],
   "source": [
    "flick_y.head()"
   ]
  },
  {
   "cell_type": "code",
   "execution_count": 16,
   "metadata": {},
   "outputs": [],
   "source": [
    "#Get rid of the row nums\n",
    "flick_y = np.ravel(flick_y)"
   ]
  },
  {
   "cell_type": "code",
   "execution_count": 14,
   "metadata": {},
   "outputs": [],
   "source": [
    "Ages = ['baby', 'adult']"
   ]
  },
  {
   "cell_type": "code",
   "execution_count": 15,
   "metadata": {},
   "outputs": [],
   "source": [
    "feature_names = ['face_T5', 'face_O1', 'face_O2', 'face_T6', 'obj_T5', 'obj_O1', 'obj_O2', 'obj_T6']"
   ]
  },
  {
   "cell_type": "code",
   "execution_count": 11,
   "metadata": {},
   "outputs": [],
   "source": [
    "#try again with different features\n",
    "#flick_X_2 = flick[[ 'face_O2', 'face_T6',  'obj_O2', 'obj_T6']]"
   ]
  },
  {
   "cell_type": "code",
   "execution_count": 51,
   "metadata": {},
   "outputs": [],
   "source": [
    "X_train, X_test, y_train, y_test = train_test_split(flick_X, flick_y, test_size=0.25, random_state=0)\n",
    "#X_train, X_test, y_train, y_test = train_test_split(flick_X_2, flick_y, test_size=0.20, random_state=0)"
   ]
  },
  {
   "cell_type": "code",
   "execution_count": 52,
   "metadata": {},
   "outputs": [
    {
     "data": {
      "text/plain": [
       "(30, 8)"
      ]
     },
     "execution_count": 52,
     "metadata": {},
     "output_type": "execute_result"
    }
   ],
   "source": [
    "X_test.shape"
   ]
  },
  {
   "cell_type": "markdown",
   "metadata": {},
   "source": [
    "Standardize the X data"
   ]
  },
  {
   "cell_type": "code",
   "execution_count": 53,
   "metadata": {},
   "outputs": [],
   "source": [
    "scaler = preprocessing.StandardScaler().fit(X_train)\n",
    "#scaler(copy=True, with_mean=True, with_std=True)\n",
    "\n",
    " "
   ]
  },
  {
   "cell_type": "code",
   "execution_count": 54,
   "metadata": {},
   "outputs": [
    {
     "data": {
      "text/plain": [
       "array([0.10455366, 0.20161862, 0.21240717, 0.13160512, 0.17317248,\n",
       "       0.34751395, 0.35027613, 0.17680836])"
      ]
     },
     "execution_count": 54,
     "metadata": {},
     "output_type": "execute_result"
    }
   ],
   "source": [
    "scaler.mean_                                      \n",
    "\n",
    "                                      \n"
   ]
  },
  {
   "cell_type": "code",
   "execution_count": 55,
   "metadata": {},
   "outputs": [
    {
     "data": {
      "text/plain": [
       "array([0.16822786, 0.25091484, 0.23246287, 0.19636276, 0.24969095,\n",
       "       0.39894474, 0.41072335, 0.26115093])"
      ]
     },
     "execution_count": 55,
     "metadata": {},
     "output_type": "execute_result"
    }
   ],
   "source": [
    "\n",
    "scaler.scale_ "
   ]
  },
  {
   "cell_type": "code",
   "execution_count": 56,
   "metadata": {},
   "outputs": [],
   "source": [
    "X_train_scaled = scaler.transform(X_train) "
   ]
  },
  {
   "cell_type": "code",
   "execution_count": 57,
   "metadata": {},
   "outputs": [],
   "source": [
    "X_test_scaled = scaler.transform(X_test)"
   ]
  },
  {
   "cell_type": "code",
   "execution_count": 58,
   "metadata": {},
   "outputs": [
    {
     "data": {
      "text/plain": [
       "((88, 8), (88,))"
      ]
     },
     "execution_count": 58,
     "metadata": {},
     "output_type": "execute_result"
    }
   ],
   "source": [
    "X_train.shape, y_train.shape"
   ]
  },
  {
   "cell_type": "markdown",
   "metadata": {},
   "source": [
    "# try K nearest neighbors"
   ]
  },
  {
   "cell_type": "code",
   "execution_count": 164,
   "metadata": {},
   "outputs": [],
   "source": [
    "from sklearn.neighbors import KNeighborsClassifier\n",
    "model = KNeighborsClassifier()\n",
    "model_tt = model.fit(X_train_scaled, y_train)"
   ]
  },
  {
   "cell_type": "code",
   "execution_count": 165,
   "metadata": {},
   "outputs": [
    {
     "data": {
      "text/plain": [
       "0.8617021276595744"
      ]
     },
     "execution_count": 165,
     "metadata": {},
     "output_type": "execute_result"
    }
   ],
   "source": [
    "# check the accuracy on the training set\n",
    "model_tt.score(X_train_scaled, y_train)"
   ]
  },
  {
   "cell_type": "code",
   "execution_count": 166,
   "metadata": {},
   "outputs": [
    {
     "name": "stdout",
     "output_type": "stream",
     "text": [
      "[1 1 1 0 0 0 0 0 0 0 0 1 0 1 1 1 0 0 1 1 0 1 0 0]\n"
     ]
    }
   ],
   "source": [
    "# predict class labels for the test set\n",
    "predicted = model_tt.predict(X_test_scaled)\n",
    "print (predicted)"
   ]
  },
  {
   "cell_type": "code",
   "execution_count": 167,
   "metadata": {},
   "outputs": [
    {
     "name": "stdout",
     "output_type": "stream",
     "text": [
      "[1 1 1 0 1 0 0 0 0 0 0 1 0 0 1 1 0 0 1 1 0 1 0 0]\n"
     ]
    }
   ],
   "source": [
    "print(y_test)"
   ]
  },
  {
   "cell_type": "code",
   "execution_count": 168,
   "metadata": {},
   "outputs": [
    {
     "name": "stdout",
     "output_type": "stream",
     "text": [
      "0.9166666666666666\n"
     ]
    }
   ],
   "source": [
    "# generate evaluation metrics\n",
    "from sklearn import metrics\n",
    "print (metrics.accuracy_score(y_test, predicted))"
   ]
  },
  {
   "cell_type": "code",
   "execution_count": 169,
   "metadata": {},
   "outputs": [
    {
     "name": "stdout",
     "output_type": "stream",
     "text": [
      "[[13  1]\n",
      " [ 1  9]]\n"
     ]
    }
   ],
   "source": [
    "print (metrics.confusion_matrix(y_test, predicted))"
   ]
  },
  {
   "cell_type": "markdown",
   "metadata": {},
   "source": [
    "# Try k folds cross-validation"
   ]
  },
  {
   "cell_type": "code",
   "execution_count": 170,
   "metadata": {},
   "outputs": [],
   "source": [
    "#K folds cross-validation\n",
    "from sklearn import model_selection\n",
    "model = KNeighborsClassifier()\n",
    "kfold = model_selection.KFold(n_splits=6, random_state=12323, shuffle=True) # note shuffle is true so that samples are randomly assigned to the folds."
   ]
  },
  {
   "cell_type": "code",
   "execution_count": 171,
   "metadata": {},
   "outputs": [],
   "source": [
    "#flick_X_scaled = scaler.transform(flick_X)\n",
    "flick_X_scaled = scaler.transform(flick_X_2)"
   ]
  },
  {
   "cell_type": "code",
   "execution_count": 172,
   "metadata": {},
   "outputs": [
    {
     "data": {
      "text/plain": [
       "array([0.65      , 0.75      , 0.95      , 0.9       , 0.89473684,\n",
       "       0.84210526])"
      ]
     },
     "execution_count": 172,
     "metadata": {},
     "output_type": "execute_result"
    }
   ],
   "source": [
    "results = model_selection.cross_val_score(model, flick_X_scaled, flick_y, cv=kfold)\n",
    "results"
   ]
  },
  {
   "cell_type": "code",
   "execution_count": 173,
   "metadata": {},
   "outputs": [
    {
     "name": "stdout",
     "output_type": "stream",
     "text": [
      "Accuracy: 83.114% (10.200%)\n"
     ]
    }
   ],
   "source": [
    "print(\"Accuracy: %.3f%% (%.3f%%)\" % (results.mean()*100.0, results.std()*100.0))"
   ]
  },
  {
   "cell_type": "markdown",
   "metadata": {},
   "source": [
    "# Try leave one out cross validation"
   ]
  },
  {
   "cell_type": "code",
   "execution_count": 174,
   "metadata": {},
   "outputs": [
    {
     "name": "stdout",
     "output_type": "stream",
     "text": [
      "Accuracy: 80.508% (39.614%)\n"
     ]
    }
   ],
   "source": [
    "#leave one out cross validation (LOOCV)\n",
    "model = KNeighborsClassifier()\n",
    "loocv = model_selection.LeaveOneOut()\n",
    "results = model_selection.cross_val_score(model, flick_X_scaled, flick_y, cv=loocv)\n",
    "print(\"Accuracy: %.3f%% (%.3f%%)\" % (results.mean()*100.0, results.std()*100.0))"
   ]
  },
  {
   "cell_type": "code",
   "execution_count": 178,
   "metadata": {},
   "outputs": [
    {
     "data": {
      "text/plain": [
       "array([0, 0, 0, 0, 0, 0, 0, 0, 0, 0, 0, 0, 0, 0, 0, 0, 0, 0, 0, 0, 0, 0,\n",
       "       0, 0, 0, 0, 0, 0, 0, 0, 0, 0, 0, 0, 0, 0, 0, 0, 0, 0, 0, 0, 0, 0,\n",
       "       0, 0, 0, 0, 0, 0, 0, 0, 0, 0, 0, 0, 0, 0, 0, 0, 0, 0, 0, 0, 0, 0,\n",
       "       0, 0, 0, 0, 0, 1, 1, 1, 1, 1, 1, 1, 1, 1, 1, 1, 1, 1, 1, 1, 1, 1,\n",
       "       1, 1, 1, 1, 1, 1, 1, 1, 1, 1, 1, 1, 1, 1, 1, 1, 1, 1, 1, 1, 1, 1,\n",
       "       1, 1, 1, 1, 1, 1, 1, 1])"
      ]
     },
     "execution_count": 178,
     "metadata": {},
     "output_type": "execute_result"
    }
   ],
   "source": [
    "flick_y"
   ]
  },
  {
   "cell_type": "code",
   "execution_count": 21,
   "metadata": {},
   "outputs": [
    {
     "data": {
      "text/plain": [
       "<matplotlib.collections.PathCollection at 0x1a25096d50>"
      ]
     },
     "execution_count": 21,
     "metadata": {},
     "output_type": "execute_result"
    },
    {
     "data": {
      "image/png": "[encoded data removed]",
      "text/plain": [
       "<Figure size 432x288 with 1 Axes>"
      ]
     },
     "metadata": {
      "needs_background": "light"
     },
     "output_type": "display_data"
    }
   ],
   "source": [
    "plt.scatter(flick[\"face_T6\"], flick[\"obj_T6\"], c = flick[\"AGEgrp\"])"
   ]
  },
  {
   "cell_type": "markdown",
   "metadata": {},
   "source": [
    "# Try SVM\n",
    "Start with a linear kernel"
   ]
  },
  {
   "cell_type": "code",
   "execution_count": 59,
   "metadata": {},
   "outputs": [
    {
     "data": {
      "text/plain": [
       "SVC(C=1.0, cache_size=200, class_weight=None, coef0=0.0,\n",
       "    decision_function_shape='ovr', degree=3, gamma='auto_deprecated',\n",
       "    kernel='linear', max_iter=-1, probability=False, random_state=None,\n",
       "    shrinking=True, tol=0.001, verbose=False)"
      ]
     },
     "execution_count": 59,
     "metadata": {},
     "output_type": "execute_result"
    }
   ],
   "source": [
    "#linear SVM\n",
    "from sklearn.svm import SVC\n",
    "clf = SVC(kernel = 'linear')\n",
    "clf.fit(X_train_scaled, y_train) "
   ]
  },
  {
   "cell_type": "code",
   "execution_count": 60,
   "metadata": {},
   "outputs": [],
   "source": [
    "y_pred = clf.predict(X_test_scaled)"
   ]
  },
  {
   "cell_type": "code",
   "execution_count": 61,
   "metadata": {},
   "outputs": [
    {
     "name": "stdout",
     "output_type": "stream",
     "text": [
      "[1 1 1 0 1 0 0 0 0 0 0 1 0 1 1 1 0 0 1 1 0 1 0 0 1 0 0 1 0 1]\n"
     ]
    }
   ],
   "source": [
    "print(y_pred)"
   ]
  },
  {
   "cell_type": "code",
   "execution_count": 62,
   "metadata": {},
   "outputs": [
    {
     "name": "stdout",
     "output_type": "stream",
     "text": [
      "[1 1 1 0 1 0 0 0 0 0 0 1 0 0 1 1 0 0 1 1 0 1 0 0 1 0 0 1 0 1]\n"
     ]
    }
   ],
   "source": [
    "print(y_test)"
   ]
  },
  {
   "cell_type": "code",
   "execution_count": 63,
   "metadata": {},
   "outputs": [
    {
     "name": "stdout",
     "output_type": "stream",
     "text": [
      "[[16  1]\n",
      " [ 0 13]]\n",
      "              precision    recall  f1-score   support\n",
      "\n",
      "           0       1.00      0.94      0.97        17\n",
      "           1       0.93      1.00      0.96        13\n",
      "\n",
      "    accuracy                           0.97        30\n",
      "   macro avg       0.96      0.97      0.97        30\n",
      "weighted avg       0.97      0.97      0.97        30\n",
      "\n"
     ]
    }
   ],
   "source": [
    "#evaluate the SVM\n",
    "from sklearn.metrics import classification_report, confusion_matrix\n",
    "print(confusion_matrix(y_test, y_pred))\n",
    "print(classification_report(y_test, y_pred))"
   ]
  },
  {
   "cell_type": "markdown",
   "metadata": {},
   "source": [
    "# Try a nonlinear kernel SVM\n",
    "Compare to the linear one above"
   ]
  },
  {
   "cell_type": "code",
   "execution_count": 38,
   "metadata": {},
   "outputs": [
    {
     "data": {
      "text/plain": [
       "SVC(C=1.0, cache_size=200, class_weight=None, coef0=0.0,\n",
       "    decision_function_shape='ovr', degree=8, gamma='auto_deprecated',\n",
       "    kernel='sigmoid', max_iter=-1, probability=False, random_state=None,\n",
       "    shrinking=True, tol=0.001, verbose=False)"
      ]
     },
     "execution_count": 38,
     "metadata": {},
     "output_type": "execute_result"
    }
   ],
   "source": [
    "#kernel SVM\n",
    "from sklearn.svm import SVC\n",
    "clf_poly = SVC(kernel = 'sigmoid', degree=8)\n",
    "clf_poly.fit(X_train_scaled, y_train) "
   ]
  },
  {
   "cell_type": "code",
   "execution_count": 39,
   "metadata": {},
   "outputs": [],
   "source": [
    "y_pred = clf_poly.predict(X_test_scaled)"
   ]
  },
  {
   "cell_type": "code",
   "execution_count": 40,
   "metadata": {},
   "outputs": [
    {
     "name": "stdout",
     "output_type": "stream",
     "text": [
      "[1 1 1 0 0 0 0 0 0 0 0 1 0 0 1 1 0 1 1 0 0 1 0 0]\n"
     ]
    }
   ],
   "source": [
    "print(y_pred)"
   ]
  },
  {
   "cell_type": "code",
   "execution_count": 41,
   "metadata": {},
   "outputs": [
    {
     "name": "stdout",
     "output_type": "stream",
     "text": [
      "[[13  1]\n",
      " [ 2  8]]\n",
      "              precision    recall  f1-score   support\n",
      "\n",
      "           0       0.87      0.93      0.90        14\n",
      "           1       0.89      0.80      0.84        10\n",
      "\n",
      "    accuracy                           0.88        24\n",
      "   macro avg       0.88      0.86      0.87        24\n",
      "weighted avg       0.88      0.88      0.87        24\n",
      "\n"
     ]
    }
   ],
   "source": [
    "print(confusion_matrix(y_test, y_pred))\n",
    "print(classification_report(y_test, y_pred))"
   ]
  },
  {
   "cell_type": "code",
   "execution_count": null,
   "metadata": {},
   "outputs": [],
   "source": []
  }
 ],
 "metadata": {
  "kernelspec": {
   "display_name": "Python 3",
   "language": "python",
   "name": "python3"
  },
  "language_info": {
   "codemirror_mode": {
    "name": "ipython",
    "version": 3
   },
   "file_extension": ".py",
   "mimetype": "text/x-python",
   "name": "python",
   "nbconvert_exporter": "python",
   "pygments_lexer": "ipython3",
   "version": "3.7.4"
  }
 },
 "nbformat": 4,
 "nbformat_minor": 2
}
